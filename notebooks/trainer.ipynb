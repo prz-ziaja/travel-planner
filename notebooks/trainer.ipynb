{
 "cells": [
  {
   "cell_type": "code",
   "execution_count": 23,
   "id": "a53c4bd4",
   "metadata": {},
   "outputs": [],
   "source": [
    "import gymnasium\n",
    "import numpy as np\n",
    "from gymnasium.spaces import Discrete, Box\n",
    "\n",
    "class GraphTraversalEnv(gymnasium.Env):\n",
    "    def __init__(self, config):\n",
    "        super(GraphTraversalEnv, self).__init__()\n",
    "\n",
    "        self.coordinates = config[\"coordinates\"]\n",
    "        self.user_simulator = config[\"user_simulator\"]\n",
    "        self.max_steps = len(self.coordinates)\n",
    "        self.num_nodes = len(self.coordinates)\n",
    "\n",
    "        self.action_space = Discrete(self.num_nodes)  # Propose a next node\n",
    "        self.observation_space = Box(low=0, high=1, shape=(self.num_nodes + self.max_steps,), dtype=np.float32)\n",
    "\n",
    "        self.reset()\n",
    "\n",
    "    def reset(self):\n",
    "        self.current_node = random.randint(0,self.num_nodes)\n",
    "        self.visited = set([self.current_node])\n",
    "        self.path = [self.current_node]\n",
    "        self.step_count = 0\n",
    "        return self._get_obs()\n",
    "\n",
    "    def _get_obs(self):\n",
    "        # Observations can include:\n",
    "        # - Current node (one-hot)\n",
    "        # - Path history (binary flags)\n",
    "        obs = np.zeros(self.num_nodes + self.max_steps, dtype=np.float32)\n",
    "        obs[self.current_node] = 1.0\n",
    "        obs[self.num_nodes:self.num_nodes+len(self.path)] = [float(i) / self.num_nodes for i in self.path]\n",
    "        return obs\n",
    "\n",
    "    def step(self, action):\n",
    "        reward = 0.0\n",
    "        done = False\n",
    "\n",
    "        if action in self.visited:\n",
    "            reward = -1.0  # Penalty for revisiting\n",
    "        else:\n",
    "            self.current_node = action\n",
    "            self.visited.add(action)\n",
    "            self.path.append(action)\n",
    "\n",
    "            # Simulate user preference\n",
    "            reward = self.user_simulator.evaluate(self.current_node)\n",
    "\n",
    "        self.step_count += 1\n",
    "        done = self.step_count >= self.max_steps\n",
    "\n",
    "        return self._get_obs(), reward, done, {\"path\": self.path}\n",
    "    \n",
    "class UserSimulator:\n",
    "    def __init__(self, liked_indices):\n",
    "        self.liked = set(liked_indices)\n",
    "\n",
    "    def evaluate(self, node_index):\n",
    "        return 1.0 if node_index in self.liked else -0.5\n"
   ]
  },
  {
   "cell_type": "code",
   "execution_count": 24,
   "id": "2b52587f",
   "metadata": {},
   "outputs": [],
   "source": [
    "import pickle\n",
    "with open('../data/processed/df_01.pkl', 'rb') as f:\n",
    "    coordinates=pickle.load(f)['geo']\n",
    "\n",
    "user_likes = [1,3,5,10]\n",
    "config = {\n",
    "    \"coordinates\": coordinates,\n",
    "    \"user_simulator\": UserSimulator(liked_indices=user_likes)\n",
    "}\n",
    "\n",
    "g_env = GraphTraversalEnv(config)"
   ]
  },
  {
   "cell_type": "code",
   "execution_count": 25,
   "id": "7c1a81c9",
   "metadata": {},
   "outputs": [],
   "source": [
    "import json\n",
    "import random\n",
    "\n",
    "def generate_offline_dataset(env, episodes=100):\n",
    "    dataset = []\n",
    "\n",
    "    for _ in range(episodes):\n",
    "        obs = env.reset()\n",
    "        done = False\n",
    "\n",
    "        while not done:\n",
    "            action = random.choice([\n",
    "                i for i in range(env.num_nodes) if i not in env.visited\n",
    "            ])\n",
    "            next_obs, reward, done, info = env.step(action)\n",
    "            \n",
    "            dataset.append({\n",
    "                \"obs\": obs.tolist(),\n",
    "                \"actions\": action,\n",
    "                \"rewards\": reward,\n",
    "                \"new_obs\": next_obs.tolist(),\n",
    "                \"dones\": done,\n",
    "            })\n",
    "\n",
    "            obs = next_obs\n",
    "            if len(env.visited) == env.num_nodes:\n",
    "                break\n",
    "\n",
    "    # Save as JSON\n",
    "    with open(\"offline_graph_dataset.json\", \"w\") as f:\n",
    "        for record in dataset:\n",
    "            f.write(json.dumps(record) + \"\\n\")"
   ]
  },
  {
   "cell_type": "code",
   "execution_count": 27,
   "id": "6462acc4",
   "metadata": {},
   "outputs": [],
   "source": [
    "generate_offline_dataset(g_env)"
   ]
  },
  {
   "cell_type": "code",
   "execution_count": 28,
   "id": "d2a8ab8b",
   "metadata": {},
   "outputs": [
    {
     "data": {
      "text/plain": [
       "(array([0.        , 1.        , 0.        , 0.        , 0.        ,\n",
       "        0.        , 0.        , 0.        , 0.        , 0.        ,\n",
       "        0.        , 0.        , 0.8333333 , 0.08333334, 0.        ,\n",
       "        0.        , 0.        , 0.        , 0.        , 0.        ,\n",
       "        0.        , 0.        , 0.        , 0.        ], dtype=float32),\n",
       " 1.0,\n",
       " False,\n",
       " {'path': [10, 1]})"
      ]
     },
     "execution_count": 28,
     "metadata": {},
     "output_type": "execute_result"
    }
   ],
   "source": [
    "g_env.reset()\n",
    "g_env.step(1)"
   ]
  },
  {
   "cell_type": "code",
   "execution_count": null,
   "id": "67e7c8d6",
   "metadata": {},
   "outputs": [],
   "source": []
  }
 ],
 "metadata": {
  "kernelspec": {
   "display_name": "TEMP",
   "language": "python",
   "name": "python3"
  },
  "language_info": {
   "codemirror_mode": {
    "name": "ipython",
    "version": 3
   },
   "file_extension": ".py",
   "mimetype": "text/x-python",
   "name": "python",
   "nbconvert_exporter": "python",
   "pygments_lexer": "ipython3",
   "version": "3.11.13"
  }
 },
 "nbformat": 4,
 "nbformat_minor": 5
}
